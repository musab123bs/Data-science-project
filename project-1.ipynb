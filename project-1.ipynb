{
 "cells": [
  {
   "cell_type": "code",
   "execution_count": 1,
   "id": "4aab6fa4",
   "metadata": {},
   "outputs": [
    {
     "name": "stdout",
     "output_type": "stream",
     "text": [
      "Twinkle, twinkle, little star\n",
      "        How I wonder what you are!\n",
      "                Up above the world so high,\n",
      "                Like a diamond in the sky\n",
      "Twinkle, twinkle, little star,\n",
      "                How I wonder what you are\n"
     ]
    }
   ],
   "source": [
    "\"\"\"\"\"\"\"\"\"\n",
    "Write a Python program to print the following string in a specific format (see the\n",
    "output).\n",
    "\n",
    "Twinkle, twinkle, little star,\n",
    "How I wonder what you are!\n",
    "Up above the world so high,\n",
    "Like a diamond in the sky.\n",
    "\n",
    "Twinkle, twinkle, little star,\n",
    "How I wonder what you are\n",
    "\n",
    "\"\"\"\"\"\"\"\"\"\n",
    "\n",
    "x=\" \"\n",
    "print(\"Twinkle, twinkle, little star\\n\" +8*x +\"How I wonder what you are!\\n\"+16*x+\"Up above the world so high,\\n\"+16*x+\"Like a diamond in the sky\\nTwinkle, twinkle, little star,\\n\"+16*x+\"How I wonder what you are\");"
   ]
  },
  {
   "cell_type": "code",
   "execution_count": 2,
   "id": "93cd411d",
   "metadata": {},
   "outputs": [
    {
     "name": "stdout",
     "output_type": "stream",
     "text": [
      "3.8.8\n"
     ]
    }
   ],
   "source": [
    "#Write a python program to get the python version you are using\n",
    "\n",
    "from platform import python_version\n",
    "print (python_version());"
   ]
  },
  {
   "cell_type": "code",
   "execution_count": 3,
   "id": "19a302e0",
   "metadata": {},
   "outputs": [
    {
     "name": "stdout",
     "output_type": "stream",
     "text": [
      "01-01-22 23:27:54\n"
     ]
    }
   ],
   "source": [
    "#Write a Python program to display the current date and time.\n",
    "\n",
    "from datetime import datetime\n",
    "now = datetime.now()\n",
    "print (now.strftime(\"%d-%m-%y %H:%M:%S\"));"
   ]
  },
  {
   "cell_type": "code",
   "execution_count": 4,
   "id": "bd643f09",
   "metadata": {},
   "outputs": [
    {
     "name": "stdout",
     "output_type": "stream",
     "text": [
      "Enter Radius of Circle: 5\n",
      "Area is :  78.57142857142857\n"
     ]
    }
   ],
   "source": [
    "\"\"\"\"\"\"\"\"\"Write a Python program which accepts the radius of a circle from the user and compute\n",
    "the area.\"\"\"\"\"\"\"\"\"\n",
    "\n",
    "rad = int(input('Enter Radius of Circle: '));\n",
    "Area = (22/7)* rad**2;\n",
    "print('Area is : ', Area);"
   ]
  },
  {
   "cell_type": "code",
   "execution_count": 5,
   "id": "13460d1f",
   "metadata": {},
   "outputs": [
    {
     "name": "stdout",
     "output_type": "stream",
     "text": [
      "Enter your Name: Musab\n",
      "Enter Your Last Name: Aziz\n",
      "Aziz Musab\n"
     ]
    }
   ],
   "source": [
    "\"\"\"\"\"\"\"\"\"Write a Python program which accepts the user's first and last name and print them in\n",
    "reverse order with a space between them.\"\"\"\"\"\"\"\"\"\n",
    "\n",
    "\n",
    "fname = input('Enter your Name: ');\n",
    "lname = input('Enter Your Last Name: ');\n",
    "print(lname + \" \" + fname); "
   ]
  },
  {
   "cell_type": "code",
   "execution_count": 6,
   "id": "17cd205b",
   "metadata": {},
   "outputs": [
    {
     "name": "stdout",
     "output_type": "stream",
     "text": [
      "First Number: 5\n",
      "Second Number: 6\n",
      "Total:  11.0\n"
     ]
    }
   ],
   "source": [
    "###Write a python program which takes two inputs from user and print them addition\n",
    "\n",
    "x1 = float(input('First Number: '));\n",
    "x2 = float(input('Second Number: '));\n",
    "total= x1 + x2;\n",
    "print('Total: ', total);"
   ]
  },
  {
   "cell_type": "code",
   "execution_count": null,
   "id": "adc0fdbc",
   "metadata": {},
   "outputs": [],
   "source": []
  }
 ],
 "metadata": {
  "kernelspec": {
   "display_name": "Python 3",
   "language": "python",
   "name": "python3"
  },
  "language_info": {
   "codemirror_mode": {
    "name": "ipython",
    "version": 3
   },
   "file_extension": ".py",
   "mimetype": "text/x-python",
   "name": "python",
   "nbconvert_exporter": "python",
   "pygments_lexer": "ipython3",
   "version": "3.8.8"
  }
 },
 "nbformat": 4,
 "nbformat_minor": 5
}
